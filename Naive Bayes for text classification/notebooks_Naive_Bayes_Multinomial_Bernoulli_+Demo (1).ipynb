{
  "metadata": {
    "anaconda-cloud": {},
    "kernelspec": {
      "name": "python",
      "display_name": "Pyolite",
      "language": "python"
    },
    "language_info": {
      "codemirror_mode": {
        "name": "python",
        "version": 3
      },
      "file_extension": ".py",
      "mimetype": "text/x-python",
      "name": "python",
      "nbconvert_exporter": "python",
      "pygments_lexer": "ipython3",
      "version": "3.8"
    }
  },
  "nbformat_minor": 4,
  "nbformat": 4,
  "cells": [
    {
      "cell_type": "markdown",
      "source": "## Multinomial and Bernoulli Naive Bayes",
      "metadata": {}
    },
    {
      "cell_type": "markdown",
      "source": "For understanding Multinomial and Bernoulli Naive Bayes, we will start with a small example and understand the end to end process. In another notebook, we will build a full-fledged email spam classifier.\n\nTo start with, let's take a few sentences and classify them in two different classes - *education* or *cinema*. Each sentence will represent one document. In real-world cases, a document be any piece of text such as an email, a news article, a book review, a tweet etc.\nThe analysis and the algorithm involved doesn’t depend on the type of document we use.",
      "metadata": {}
    },
    {
      "cell_type": "markdown",
      "source": "The notebook is divided into the following sections:\n1. Importing and preprocessing data\n2. Building the model: Multinomial Naive Bayes\n3. Building the model: Bernoulli Naive Bayes",
      "metadata": {}
    },
    {
      "cell_type": "markdown",
      "source": "### 1. Importing and Preprocessing Data\n\nLet us first look at the sentences and their classes. We have kept the training sentences in file example_train.csv. Test sentences have been put in the file example_test.csv.",
      "metadata": {}
    },
    {
      "cell_type": "code",
      "source": "import numpy as np\nimport pandas as pd\nimport sklearn\n\n# training data\ntrain_docs = pd.read_csv('example_train.csv') \ntrain_docs",
      "metadata": {},
      "execution_count": 129,
      "outputs": [
        {
          "execution_count": 129,
          "output_type": "execute_result",
          "data": {
            "text/html": [
              "<div>\n",
              "<style scoped>\n",
              "    .dataframe tbody tr th:only-of-type {\n",
              "        vertical-align: middle;\n",
              "    }\n",
              "\n",
              "    .dataframe tbody tr th {\n",
              "        vertical-align: top;\n",
              "    }\n",
              "\n",
              "    .dataframe thead th {\n",
              "        text-align: right;\n",
              "    }\n",
              "</style>\n",
              "<table border=\"1\" class=\"dataframe\">\n",
              "  <thead>\n",
              "    <tr style=\"text-align: right;\">\n",
              "      <th></th>\n",
              "      <th>Document</th>\n",
              "      <th>Class</th>\n",
              "    </tr>\n",
              "  </thead>\n",
              "  <tbody>\n",
              "    <tr>\n",
              "      <th>0</th>\n",
              "      <td>Upgrad is a great educational institution.</td>\n",
              "      <td>education</td>\n",
              "    </tr>\n",
              "    <tr>\n",
              "      <th>1</th>\n",
              "      <td>Educational greatness depends on ethics</td>\n",
              "      <td>education</td>\n",
              "    </tr>\n",
              "    <tr>\n",
              "      <th>2</th>\n",
              "      <td>A story of great ethics and educational greatness</td>\n",
              "      <td>education</td>\n",
              "    </tr>\n",
              "    <tr>\n",
              "      <th>3</th>\n",
              "      <td>Sholey is a great cinema</td>\n",
              "      <td>cinema</td>\n",
              "    </tr>\n",
              "    <tr>\n",
              "      <th>4</th>\n",
              "      <td>good movie depends on good story</td>\n",
              "      <td>cinema</td>\n",
              "    </tr>\n",
              "  </tbody>\n",
              "</table>\n",
              "</div>"
            ],
            "text/plain": [
              "                                            Document      Class\n",
              "0         Upgrad is a great educational institution.  education\n",
              "1            Educational greatness depends on ethics  education\n",
              "2  A story of great ethics and educational greatness  education\n",
              "3                           Sholey is a great cinema     cinema\n",
              "4                   good movie depends on good story     cinema"
            ]
          },
          "metadata": {}
        }
      ]
    },
    {
      "cell_type": "markdown",
      "source": "So as you can see there are 5 documents (sentences) , 3 are of \"education\" class and 2 are of \"cinema\" class.",
      "metadata": {}
    },
    {
      "cell_type": "code",
      "source": "# convert label to a numerical variable\ntrain_docs['Class'] = train_docs.Class.map({'cinema':0, 'education':1})\ntrain_docs",
      "metadata": {},
      "execution_count": 130,
      "outputs": [
        {
          "execution_count": 130,
          "output_type": "execute_result",
          "data": {
            "text/html": [
              "<div>\n",
              "<style scoped>\n",
              "    .dataframe tbody tr th:only-of-type {\n",
              "        vertical-align: middle;\n",
              "    }\n",
              "\n",
              "    .dataframe tbody tr th {\n",
              "        vertical-align: top;\n",
              "    }\n",
              "\n",
              "    .dataframe thead th {\n",
              "        text-align: right;\n",
              "    }\n",
              "</style>\n",
              "<table border=\"1\" class=\"dataframe\">\n",
              "  <thead>\n",
              "    <tr style=\"text-align: right;\">\n",
              "      <th></th>\n",
              "      <th>Document</th>\n",
              "      <th>Class</th>\n",
              "    </tr>\n",
              "  </thead>\n",
              "  <tbody>\n",
              "    <tr>\n",
              "      <th>0</th>\n",
              "      <td>Upgrad is a great educational institution.</td>\n",
              "      <td>1</td>\n",
              "    </tr>\n",
              "    <tr>\n",
              "      <th>1</th>\n",
              "      <td>Educational greatness depends on ethics</td>\n",
              "      <td>1</td>\n",
              "    </tr>\n",
              "    <tr>\n",
              "      <th>2</th>\n",
              "      <td>A story of great ethics and educational greatness</td>\n",
              "      <td>1</td>\n",
              "    </tr>\n",
              "    <tr>\n",
              "      <th>3</th>\n",
              "      <td>Sholey is a great cinema</td>\n",
              "      <td>0</td>\n",
              "    </tr>\n",
              "    <tr>\n",
              "      <th>4</th>\n",
              "      <td>good movie depends on good story</td>\n",
              "      <td>0</td>\n",
              "    </tr>\n",
              "  </tbody>\n",
              "</table>\n",
              "</div>"
            ],
            "text/plain": [
              "                                            Document  Class\n",
              "0         Upgrad is a great educational institution.      1\n",
              "1            Educational greatness depends on ethics      1\n",
              "2  A story of great ethics and educational greatness      1\n",
              "3                           Sholey is a great cinema      0\n",
              "4                   good movie depends on good story      0"
            ]
          },
          "metadata": {}
        }
      ]
    },
    {
      "cell_type": "markdown",
      "source": "Let's now split the dataframe into X and y labels.",
      "metadata": {}
    },
    {
      "cell_type": "code",
      "source": "# convert the df to a numpy array \ntrain_array = train_docs.values\n\n# split X and y\nX_train = train_array[:,0]\ny_train = train_array[:,1]\ny_train = y_train.astype('int') # sklearn needs y as integers\n\nprint(\"X_train\")\nprint(X_train)\nprint(\"y_train\")\nprint(y_train)",
      "metadata": {},
      "execution_count": 131,
      "outputs": [
        {
          "name": "stdout",
          "output_type": "stream",
          "text": "X_train\n\n['Upgrad is a great educational institution.'\n\n 'Educational greatness depends on ethics'\n\n 'A story of great ethics and educational greatness'\n\n 'Sholey is a great cinema' 'good movie depends on good story']\n\ny_train\n\n[1 1 1 0 0]\n"
        }
      ]
    },
    {
      "cell_type": "markdown",
      "source": "### Creating the Bag of Words Representation\n\nWe now have to convert the data into a format which can be used for training the model. We'll use the **bag of words representation** for each sentence (document).\n\nImagine breaking X in individual words and putting them all in a bag. Then we pick all the unique words from the bag one by one and make a dictionary of unique words. \n\nThis is called **vectorization of words**. We have the class ```CountVectorizer()``` in scikit learn to vectorize the words. \n",
      "metadata": {}
    },
    {
      "cell_type": "code",
      "source": "# create an object of CountVectorizer() class \nfrom sklearn.feature_extraction.text import CountVectorizer \n# help(CountVectorizer)",
      "metadata": {},
      "execution_count": 164,
      "outputs": []
    },
    {
      "cell_type": "code",
      "source": "vec = CountVectorizer()",
      "metadata": {},
      "execution_count": 133,
      "outputs": []
    },
    {
      "cell_type": "markdown",
      "source": "Here ```vec``` is an object of class ```CountVectorizer()```. This has a method called  ```fit()``` which converts a corpus of documents to a matrix of 'tokens'.",
      "metadata": {}
    },
    {
      "cell_type": "code",
      "source": "# fit the vectorizer on training data \nvec.fit(X_train)\nvec.vocabulary_",
      "metadata": {},
      "execution_count": 134,
      "outputs": [
        {
          "execution_count": 134,
          "output_type": "execute_result",
          "data": {
            "text/plain": [
              "{'and': 0,\n",
              " 'cinema': 1,\n",
              " 'depends': 2,\n",
              " 'educational': 3,\n",
              " 'ethics': 4,\n",
              " 'good': 5,\n",
              " 'great': 6,\n",
              " 'greatness': 7,\n",
              " 'institution': 8,\n",
              " 'is': 9,\n",
              " 'movie': 10,\n",
              " 'of': 11,\n",
              " 'on': 12,\n",
              " 'sholey': 13,\n",
              " 'story': 14,\n",
              " 'upgrad': 15}"
            ]
          },
          "metadata": {}
        }
      ]
    },
    {
      "cell_type": "markdown",
      "source": "```Countvectorizer()``` has converted the documents into a set of unique words alphabetically sorted and indexed.\n\n\n**Stop Words**\n\nWe can see a few trivial words such as  'and','is','of', etc. These words don't really make any difference in classyfying a document. These are called **stop words**. So we would like to get rid of them. \n\nWe can remove them by passing a parameter stop_words='english' while instantiating ```Countvectorizer()``` as follows: ",
      "metadata": {}
    },
    {
      "cell_type": "code",
      "source": "# fitting the vectorizer on training data again\n# removing the stop words this time\nvec = CountVectorizer(stop_words='english')\nvec.fit(X_train)\nvec.vocabulary_",
      "metadata": {},
      "execution_count": 135,
      "outputs": [
        {
          "execution_count": 135,
          "output_type": "execute_result",
          "data": {
            "text/plain": [
              "{'cinema': 0,\n",
              " 'depends': 1,\n",
              " 'educational': 2,\n",
              " 'ethics': 3,\n",
              " 'good': 4,\n",
              " 'great': 5,\n",
              " 'greatness': 6,\n",
              " 'institution': 7,\n",
              " 'movie': 8,\n",
              " 'sholey': 9,\n",
              " 'story': 10,\n",
              " 'upgrad': 11}"
            ]
          },
          "metadata": {}
        }
      ]
    },
    {
      "cell_type": "markdown",
      "source": "Notice that the vocabulary has reduced to 12 from 15. Another way of printing the 'vocabulary' is as follows:",
      "metadata": {}
    },
    {
      "cell_type": "code",
      "source": "# printing feature names\nprint(vec.get_feature_names_out())\nprint(len(vec.get_feature_names_out()))",
      "metadata": {},
      "execution_count": 136,
      "outputs": [
        {
          "name": "stdout",
          "output_type": "stream",
          "text": "['cinema', 'depends', 'educational', 'ethics', 'good', 'great', 'greatness', 'institution', 'movie', 'sholey', 'story', 'upgrad']\n\n12\n"
        }
      ]
    },
    {
      "cell_type": "markdown",
      "source": "So our final dictionary is made of 12 words (after discarding the stop words). Now, to do classification, we need to represent all the documents with these words (or tokens) as features. \n\nEvery document will be converted into a *feature vector* representing presence of these words in that document. Let's convert each of our training documents in to a feature vector.",
      "metadata": {}
    },
    {
      "cell_type": "code",
      "source": "# another way of representing the features\nX_transformed = vec.transform(X_train)\nX_transformed",
      "metadata": {},
      "execution_count": 137,
      "outputs": [
        {
          "execution_count": 137,
          "output_type": "execute_result",
          "data": {
            "text/plain": [
              "<5x12 sparse matrix of type '<class 'numpy.int64'>'\n",
              "\twith 20 stored elements in Compressed Sparse Row format>"
            ]
          },
          "metadata": {}
        }
      ]
    },
    {
      "cell_type": "markdown",
      "source": "You can see X_tranformed is a 5 x 12 **sparse matrix**. It has 5 rows for each of our 5 documents and 12 columns each \nfor one word of the dictionary which we just created. Let us print X_transformed.",
      "metadata": {}
    },
    {
      "cell_type": "code",
      "source": "print(X_transformed)",
      "metadata": {
        "scrolled": true
      },
      "execution_count": 138,
      "outputs": [
        {
          "name": "stdout",
          "output_type": "stream",
          "text": "  (0, 2)\t1\n\n  (0, 5)\t1\n\n  (0, 7)\t1\n\n  (0, 11)\t1\n\n  (1, 1)\t1\n\n  (1, 2)\t1\n\n  (1, 3)\t1\n\n  (1, 6)\t1\n\n  (2, 2)\t1\n\n  (2, 3)\t1\n\n  (2, 5)\t1\n\n  (2, 6)\t1\n\n  (2, 10)\t1\n\n  (3, 0)\t1\n\n  (3, 5)\t1\n\n  (3, 9)\t1\n\n  (4, 1)\t1\n\n  (4, 4)\t2\n\n  (4, 8)\t1\n\n  (4, 10)\t1\n"
        }
      ]
    },
    {
      "cell_type": "markdown",
      "source": "This representation can be understood as follows:\n\nConsider first 4 rows of the output: (0,2), (0,5), (0,7) and (0,11). It says that the first document (index 0) has \n7th , 2nd , 5th and 11th 'word' present in the document, and that they appear only\nonce in the document- indicated by the right hand column entry. \n\nSimilarly, consider the entry (4,4) (third from bottom). It says that the fifth document has the fifth word present twice. Indeed, the 5th word('good') appears twice in the 5th document. \n\nIn real problems, you often work with large documents and vocabularies, and each document contains only a few words in the vocabulary. So it would be a waste of space to store the vocabulary in a typical dataframe, since most entries would be zero. Also, matrix products, additions etc. are much faster with sparse matrices. That's why we use sparse matrices to store the data.\n\n\nLet us convert this sparse matrix into a more easily interpretable array:",
      "metadata": {}
    },
    {
      "cell_type": "code",
      "source": "# converting transformed matrix back to an array\n# note the high number of zeros\nX_transformed.toarray()",
      "metadata": {},
      "execution_count": 139,
      "outputs": [
        {
          "execution_count": 139,
          "output_type": "execute_result",
          "data": {
            "text/plain": [
              "array([[0, 0, 1, 0, 0, 1, 0, 1, 0, 0, 0, 1],\n",
              "       [0, 1, 1, 1, 0, 0, 1, 0, 0, 0, 0, 0],\n",
              "       [0, 0, 1, 1, 0, 1, 1, 0, 0, 0, 1, 0],\n",
              "       [1, 0, 0, 0, 0, 1, 0, 0, 0, 1, 0, 0],\n",
              "       [0, 1, 0, 0, 2, 0, 0, 0, 1, 0, 1, 0]])"
            ]
          },
          "metadata": {}
        }
      ]
    },
    {
      "cell_type": "markdown",
      "source": "To make the dataset more readable, let us examine the vocabulary and the document-term matrix together in a pandas dataframe. The way to convert a matrix into a dataframe is ```pd.DataFrame(matrix, columns=columns)```.\n",
      "metadata": {}
    },
    {
      "cell_type": "code",
      "source": "# converting matrix to dataframe\npd.DataFrame(X_transformed.toarray(), \n             columns=vec.get_feature_names_out())",
      "metadata": {},
      "execution_count": 140,
      "outputs": [
        {
          "execution_count": 140,
          "output_type": "execute_result",
          "data": {
            "text/html": [
              "<div>\n",
              "<style scoped>\n",
              "    .dataframe tbody tr th:only-of-type {\n",
              "        vertical-align: middle;\n",
              "    }\n",
              "\n",
              "    .dataframe tbody tr th {\n",
              "        vertical-align: top;\n",
              "    }\n",
              "\n",
              "    .dataframe thead th {\n",
              "        text-align: right;\n",
              "    }\n",
              "</style>\n",
              "<table border=\"1\" class=\"dataframe\">\n",
              "  <thead>\n",
              "    <tr style=\"text-align: right;\">\n",
              "      <th></th>\n",
              "      <th>cinema</th>\n",
              "      <th>depends</th>\n",
              "      <th>educational</th>\n",
              "      <th>ethics</th>\n",
              "      <th>good</th>\n",
              "      <th>great</th>\n",
              "      <th>greatness</th>\n",
              "      <th>institution</th>\n",
              "      <th>movie</th>\n",
              "      <th>sholey</th>\n",
              "      <th>story</th>\n",
              "      <th>upgrad</th>\n",
              "    </tr>\n",
              "  </thead>\n",
              "  <tbody>\n",
              "    <tr>\n",
              "      <th>0</th>\n",
              "      <td>0</td>\n",
              "      <td>0</td>\n",
              "      <td>1</td>\n",
              "      <td>0</td>\n",
              "      <td>0</td>\n",
              "      <td>1</td>\n",
              "      <td>0</td>\n",
              "      <td>1</td>\n",
              "      <td>0</td>\n",
              "      <td>0</td>\n",
              "      <td>0</td>\n",
              "      <td>1</td>\n",
              "    </tr>\n",
              "    <tr>\n",
              "      <th>1</th>\n",
              "      <td>0</td>\n",
              "      <td>1</td>\n",
              "      <td>1</td>\n",
              "      <td>1</td>\n",
              "      <td>0</td>\n",
              "      <td>0</td>\n",
              "      <td>1</td>\n",
              "      <td>0</td>\n",
              "      <td>0</td>\n",
              "      <td>0</td>\n",
              "      <td>0</td>\n",
              "      <td>0</td>\n",
              "    </tr>\n",
              "    <tr>\n",
              "      <th>2</th>\n",
              "      <td>0</td>\n",
              "      <td>0</td>\n",
              "      <td>1</td>\n",
              "      <td>1</td>\n",
              "      <td>0</td>\n",
              "      <td>1</td>\n",
              "      <td>1</td>\n",
              "      <td>0</td>\n",
              "      <td>0</td>\n",
              "      <td>0</td>\n",
              "      <td>1</td>\n",
              "      <td>0</td>\n",
              "    </tr>\n",
              "    <tr>\n",
              "      <th>3</th>\n",
              "      <td>1</td>\n",
              "      <td>0</td>\n",
              "      <td>0</td>\n",
              "      <td>0</td>\n",
              "      <td>0</td>\n",
              "      <td>1</td>\n",
              "      <td>0</td>\n",
              "      <td>0</td>\n",
              "      <td>0</td>\n",
              "      <td>1</td>\n",
              "      <td>0</td>\n",
              "      <td>0</td>\n",
              "    </tr>\n",
              "    <tr>\n",
              "      <th>4</th>\n",
              "      <td>0</td>\n",
              "      <td>1</td>\n",
              "      <td>0</td>\n",
              "      <td>0</td>\n",
              "      <td>2</td>\n",
              "      <td>0</td>\n",
              "      <td>0</td>\n",
              "      <td>0</td>\n",
              "      <td>1</td>\n",
              "      <td>0</td>\n",
              "      <td>1</td>\n",
              "      <td>0</td>\n",
              "    </tr>\n",
              "  </tbody>\n",
              "</table>\n",
              "</div>"
            ],
            "text/plain": [
              "   cinema  depends  educational  ethics  good  great  greatness  institution  \\\n",
              "0       0        0            1       0     0      1          0            1   \n",
              "1       0        1            1       1     0      0          1            0   \n",
              "2       0        0            1       1     0      1          1            0   \n",
              "3       1        0            0       0     0      1          0            0   \n",
              "4       0        1            0       0     2      0          0            0   \n",
              "\n",
              "   movie  sholey  story  upgrad  \n",
              "0      0       0      0       1  \n",
              "1      0       0      0       0  \n",
              "2      0       0      1       0  \n",
              "3      0       1      0       0  \n",
              "4      1       0      1       0  "
            ]
          },
          "metadata": {}
        }
      ]
    },
    {
      "cell_type": "markdown",
      "source": "This table shows how many times a particular word occurs in document. In other words, this is a frequency table of the words.",
      "metadata": {}
    },
    {
      "cell_type": "markdown",
      "source": "A corpus of documents can thus be represented by a matrix with one row per document and one column per\ntoken (e.g. word) occurring in the corpus.",
      "metadata": {}
    },
    {
      "cell_type": "markdown",
      "source": "Let's now import and transform the test data as well.",
      "metadata": {}
    },
    {
      "cell_type": "code",
      "source": "# test data\ntest_docs = pd.read_csv('example_test.csv') \ntest_docs",
      "metadata": {},
      "execution_count": 153,
      "outputs": [
        {
          "execution_count": 153,
          "output_type": "execute_result",
          "data": {
            "text/html": [
              "<div>\n",
              "<style scoped>\n",
              "    .dataframe tbody tr th:only-of-type {\n",
              "        vertical-align: middle;\n",
              "    }\n",
              "\n",
              "    .dataframe tbody tr th {\n",
              "        vertical-align: top;\n",
              "    }\n",
              "\n",
              "    .dataframe thead th {\n",
              "        text-align: right;\n",
              "    }\n",
              "</style>\n",
              "<table border=\"1\" class=\"dataframe\">\n",
              "  <thead>\n",
              "    <tr style=\"text-align: right;\">\n",
              "      <th></th>\n",
              "      <th>Document</th>\n",
              "      <th>Class</th>\n",
              "    </tr>\n",
              "  </thead>\n",
              "  <tbody>\n",
              "    <tr>\n",
              "      <th>0</th>\n",
              "      <td>very good educational institution</td>\n",
              "      <td>education</td>\n",
              "    </tr>\n",
              "  </tbody>\n",
              "</table>\n",
              "</div>"
            ],
            "text/plain": [
              "                            Document      Class\n",
              "0  very good educational institution  education"
            ]
          },
          "metadata": {}
        }
      ]
    },
    {
      "cell_type": "code",
      "source": "# convert label to a numerical variable\ntest_docs['Class'] = test_docs.Class.map({'cinema':0, 'education':1})\ntest_docs",
      "metadata": {},
      "execution_count": 154,
      "outputs": [
        {
          "execution_count": 154,
          "output_type": "execute_result",
          "data": {
            "text/html": [
              "<div>\n",
              "<style scoped>\n",
              "    .dataframe tbody tr th:only-of-type {\n",
              "        vertical-align: middle;\n",
              "    }\n",
              "\n",
              "    .dataframe tbody tr th {\n",
              "        vertical-align: top;\n",
              "    }\n",
              "\n",
              "    .dataframe thead th {\n",
              "        text-align: right;\n",
              "    }\n",
              "</style>\n",
              "<table border=\"1\" class=\"dataframe\">\n",
              "  <thead>\n",
              "    <tr style=\"text-align: right;\">\n",
              "      <th></th>\n",
              "      <th>Document</th>\n",
              "      <th>Class</th>\n",
              "    </tr>\n",
              "  </thead>\n",
              "  <tbody>\n",
              "    <tr>\n",
              "      <th>0</th>\n",
              "      <td>very good educational institution</td>\n",
              "      <td>1</td>\n",
              "    </tr>\n",
              "  </tbody>\n",
              "</table>\n",
              "</div>"
            ],
            "text/plain": [
              "                            Document  Class\n",
              "0  very good educational institution      1"
            ]
          },
          "metadata": {}
        }
      ]
    },
    {
      "cell_type": "code",
      "source": "# convert to numpy array\ntest_numpy_array = test_docs.values\n\n# split into X and y\nX_test = test_numpy_array[:,0]\ny_test = test_numpy_array[:,1]\n\nprint(\"X_test\")\nprint(X_test)\nprint(\"y_test\")\nprint(y_test)",
      "metadata": {},
      "execution_count": 155,
      "outputs": [
        {
          "name": "stdout",
          "output_type": "stream",
          "text": "X_test\n\n['very good educational institution']\n\ny_test\n\n[1]\n"
        }
      ]
    },
    {
      "cell_type": "code",
      "source": "# transform the test data\n# note that you *never* fit on test data, only on training data\n# and only transform the test data\nX_test_transformed = vec.transform(X_test)\nX_test_transformed",
      "metadata": {},
      "execution_count": 156,
      "outputs": [
        {
          "execution_count": 156,
          "output_type": "execute_result",
          "data": {
            "text/plain": [
              "<1x12 sparse matrix of type '<class 'numpy.int64'>'\n",
              "\twith 3 stored elements in Compressed Sparse Row format>"
            ]
          },
          "metadata": {}
        }
      ]
    },
    {
      "cell_type": "code",
      "source": "# convert to non-sparse array\nX_test=X_test_transformed.toarray()\nX_test",
      "metadata": {},
      "execution_count": 157,
      "outputs": [
        {
          "execution_count": 157,
          "output_type": "execute_result",
          "data": {
            "text/plain": [
              "array([[0, 0, 1, 0, 1, 0, 0, 1, 0, 0, 0, 0]])"
            ]
          },
          "metadata": {}
        }
      ]
    },
    {
      "cell_type": "markdown",
      "source": "Let us summarise all we have done till now:\n\n- ```vect.fit(train)``` learns the vocabulary of the training data\n- ```vect.transform(train)``` uses the fitted vocabulary to build a document-term matrix from the training data\n- ```vect.transform(test)``` uses the fitted vocabulary to build a document-term matrix from the testing data (and ignores tokens it hasn't seen before)",
      "metadata": {}
    },
    {
      "cell_type": "markdown",
      "source": "### 2. Building the Model: Multinomial Naive Bayes",
      "metadata": {}
    },
    {
      "cell_type": "code",
      "source": "# building a multinomial NB model\nfrom sklearn.naive_bayes import MultinomialNB\n\n# instantiate NB class\nmnb=MultinomialNB()\n\n# fitting the model on training data\nmnb.fit(X_transformed, y_train)\n\n# note that we are using the sparse matrix X_transformed, \n# though you can also use the non-sparse version\n# mnb.fit(X_transformed.toarray(), y_train) \n\n# predicting probabilities of test data\nproba = mnb.predict_proba(X_test)\n",
      "metadata": {},
      "execution_count": 158,
      "outputs": [
        {
          "execution_count": 158,
          "output_type": "execute_result",
          "data": {
            "text/plain": [
              "array([[0.32808399, 0.67191601]])"
            ]
          },
          "metadata": {}
        }
      ]
    },
    {
      "cell_type": "code",
      "source": "# probability of each class (test data)\nprint(\"probability of test document belonging to class CINEMA\" , proba[:,0])\nprint(\"probability of test document belonging to class EDUCATION\" , proba[:,1])",
      "metadata": {},
      "execution_count": 159,
      "outputs": [
        {
          "name": "stdout",
          "output_type": "stream",
          "text": "probability of test document belonging to class CINEMA [0.32808399]\n\nprobability of test document belonging to class EDUCATION [0.67191601]\n"
        }
      ]
    },
    {
      "cell_type": "markdown",
      "source": "### 3. Building the Model: Bernoulli Naive Bayes",
      "metadata": {}
    },
    {
      "cell_type": "code",
      "source": "from sklearn.naive_bayes import BernoulliNB\n\n# instantiating bernoulli NB class\nbnb=BernoulliNB()\n\n# fitting the model\nbnb.fit(X_transformed, y_train)\n\n# also works\n# bnb.fit(X_transformed.toarray(), y_train)\n\n# predicting probability of test data\nbnb.predict_proba(X_test)\nprob_bnb = bnb.predict_proba(X_test)\nprob_bnb",
      "metadata": {},
      "execution_count": 160,
      "outputs": [
        {
          "execution_count": 160,
          "output_type": "execute_result",
          "data": {
            "text/plain": [
              "array([[0.2326374, 0.7673626]])"
            ]
          },
          "metadata": {}
        }
      ]
    },
    {
      "cell_type": "markdown",
      "source": "In the next notebook, we will use Multinomial and Bernoulli Naive Bayes to solve an interesting real problem - classifying SMSes as spam or ham. We'll also see how to decide the optimal cutoff probability and evaluate the model.\n",
      "metadata": {}
    }
  ]
}